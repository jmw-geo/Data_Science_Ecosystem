{
 "cells": [
  {
   "cell_type": "markdown",
   "id": "65debf5b-eba9-4e4b-bc37-101b3cdbbad2",
   "metadata": {},
   "source": [
    "# Data Science Tools and Ecosystem #"
   ]
  },
  {
   "cell_type": "markdown",
   "id": "fff645ea-46f2-462e-9204-4d34916b8538",
   "metadata": {},
   "source": [
    "## Author ##\n",
    "Jens M. Warnsloh"
   ]
  },
  {
   "cell_type": "markdown",
   "id": "1b7c9e1a-ac8b-4ee6-a512-602a6d654b60",
   "metadata": {},
   "source": [
    "In this notebook, Data Science Tools and Ecosystem are summarized."
   ]
  },
  {
   "cell_type": "markdown",
   "id": "ac7d83cd-c525-484b-bb19-33cdd4d58c04",
   "metadata": {},
   "source": [
    "**Objectives:**\n",
    "- to list popular languages that Data Scientists use\n",
    "- to list commonly used libraries used by Data Scientists\n",
    "- to list Data Science tools\n",
    "- how to make and show arithmetic expressions in Python"
   ]
  },
  {
   "cell_type": "markdown",
   "id": "9be4bf8b-1a7e-456d-9cff-fb8f635b8e1f",
   "metadata": {},
   "source": [
    "Some of the popular languages that Data Scientists use are:\n",
    "1. Python\n",
    "2. R\n",
    "3. SQL\n",
    "4. Scala\n",
    "5. Julia\n",
    "6. Java\n",
    "\n"
   ]
  },
  {
   "cell_type": "markdown",
   "id": "ebe0642e-1b75-4719-9258-106519936119",
   "metadata": {},
   "source": [
    "Some of the commonly used libraries used by Data Scientists include:\n",
    "1. Pandas\n",
    "2. NumPy\n",
    "3. Matplotlib\n",
    "4. Scikit-learn\n"
   ]
  },
  {
   "cell_type": "markdown",
   "id": "1c3928b8-ecf5-47c1-a05e-b8d1bab8df8d",
   "metadata": {},
   "source": [
    "| Data Science Tools |\n",
    "|------------------- |\n",
    "| Jupyter|\n",
    "| RStudio |\n",
    "| Spyder |\n",
    "\n"
   ]
  },
  {
   "cell_type": "markdown",
   "id": "cab45cf0-ac9f-4c3d-90e1-7f6ecaaf2aa7",
   "metadata": {},
   "source": [
    "### Below are a few examples of evaluating arithmetic expressions in Python. ###"
   ]
  },
  {
   "cell_type": "code",
   "execution_count": 1,
   "id": "4b1756c9-d1e2-46d6-9e05-7340b8687444",
   "metadata": {
    "tags": []
   },
   "outputs": [
    {
     "name": "stdout",
     "output_type": "stream",
     "text": [
      "17\n"
     ]
    }
   ],
   "source": [
    "# This a simple arithmetic expression to mutiply then add integers.\n",
    "z = (3*4)+5\n",
    "print(z)"
   ]
  },
  {
   "cell_type": "code",
   "execution_count": 2,
   "id": "5961a0ab-91ce-43ee-bf7f-cbe4ed09676f",
   "metadata": {
    "tags": []
   },
   "outputs": [
    {
     "name": "stdout",
     "output_type": "stream",
     "text": [
      "3.3333333333333335\n"
     ]
    }
   ],
   "source": [
    "# This will convert 200 minutes to hours by diving by 60.\n",
    "hours = (200/60)\n",
    "print(hours)"
   ]
  },
  {
   "cell_type": "code",
   "execution_count": null,
   "id": "4c96e3ff-8c18-455a-9a15-baae5fb1010d",
   "metadata": {},
   "outputs": [],
   "source": []
  }
 ],
 "metadata": {
  "kernelspec": {
   "display_name": "Python",
   "language": "python",
   "name": "conda-env-python-py"
  },
  "language_info": {
   "codemirror_mode": {
    "name": "ipython",
    "version": 3
   },
   "file_extension": ".py",
   "mimetype": "text/x-python",
   "name": "python",
   "nbconvert_exporter": "python",
   "pygments_lexer": "ipython3",
   "version": "3.7.12"
  }
 },
 "nbformat": 4,
 "nbformat_minor": 5
}
